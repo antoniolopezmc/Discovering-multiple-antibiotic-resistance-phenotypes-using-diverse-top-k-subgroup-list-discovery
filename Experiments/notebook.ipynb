{
 "cells": [
  {
   "cell_type": "code",
   "execution_count": 1,
   "id": "b6057bec",
   "metadata": {},
   "outputs": [],
   "source": [
    "import pandas as pd\n",
    "from sklearn.utils.random import sample_without_replacement"
   ]
  },
  {
   "cell_type": "markdown",
   "id": "abc6bf39",
   "metadata": {},
   "source": [
    "# 1. Reading the dataset"
   ]
  },
  {
   "cell_type": "code",
   "execution_count": 2,
   "id": "c9b06227",
   "metadata": {},
   "outputs": [],
   "source": [
    "df = pd.read_csv(\"../datasets/mimic-iii-mining-view.csv\")"
   ]
  },
  {
   "cell_type": "code",
   "execution_count": 3,
   "id": "fffe5b6f",
   "metadata": {},
   "outputs": [
    {
     "name": "stdout",
     "output_type": "stream",
     "text": [
      "Number of instances: 10790\n",
      "Number of attributes: 32\n"
     ]
    }
   ],
   "source": [
    "print(\"Number of instances: \" + str(len(df)))\n",
    "print(\"Number of attributes: \" + str(len(df.columns)))"
   ]
  },
  {
   "cell_type": "markdown",
   "id": "8715d078",
   "metadata": {},
   "source": [
    "# 2. Transforming attributes to create the target"
   ]
  },
  {
   "cell_type": "markdown",
   "id": "7c03dbd3",
   "metadata": {},
   "source": [
    "Our target will be the resistant ENTEROCOCCUS bacteria (any type). For that, we first concatenate the \"culture_microorganism_name\" and \"culture_susceptibility\" attributes."
   ]
  },
  {
   "cell_type": "code",
   "execution_count": 4,
   "id": "a71a76dd",
   "metadata": {
    "scrolled": true
   },
   "outputs": [
    {
     "data": {
      "text/plain": [
       "culture_microorganism_name\n",
       "ABIOTROPHIA/GRANULICATELLA SPECIES                                           4\n",
       "AEROCOCCUS VIRIDANS                                                          1\n",
       "ALPHA STREPTOCOCCI                                                          12\n",
       "BACILLUS SPECIES; NOT ANTHRACIS                                              3\n",
       "BETA STREPTOCOCCUS GROUP A                                                  12\n",
       "BETA STREPTOCOCCUS GROUP B                                                  76\n",
       "BETA STREPTOCOCCUS GROUP C                                                   2\n",
       "BETA STREPTOCOCCUS GROUP G                                                   7\n",
       "CORYNEBACTERIUM SPECIES (DIPHTHEROIDS)                                      11\n",
       "CORYNEBACTERIUM STRIATUM                                                     1\n",
       "CORYNEBACTERIUM UREALYTICUM SP. NOV.                                         3\n",
       "CORYNEBCATERIUM AMYCOLATUM                                                   1\n",
       "ENTEROCOCCUS AVIUM                                                           1\n",
       "ENTEROCOCCUS CASSELIFLAVUS                                                   6\n",
       "ENTEROCOCCUS FAECALIS                                                      264\n",
       "ENTEROCOCCUS FAECIUM                                                       407\n",
       "ENTEROCOCCUS GALLINARUM                                                     12\n",
       "ENTEROCOCCUS MUNDTII                                                         1\n",
       "ENTEROCOCCUS RAFFINOSUS                                                      5\n",
       "ENTEROCOCCUS SP.                                                          3435\n",
       "GAMMA(I.E. NON-HEMOLYTIC) STREPTOCOCCUS                                      1\n",
       "GRAM POSITIVE COCCUS(COCCI)                                                  1\n",
       "LACTOBACILLUS SPECIES                                                        5\n",
       "LISTERIA MONOCYTOGENES                                                       3\n",
       "NUTRITIONALLY VARIANT STREPTOCOCCUS                                          2\n",
       "PEDIOCOCCUS SPECIES                                                          1\n",
       "POSITIVE FOR METHICILLIN RESISTANT STAPH AUREUS                             80\n",
       "PRESUMPTIVE STREPTOCOCCUS BOVIS                                              5\n",
       "STAPH AUREUS COAG +                                                       4087\n",
       "STAPHYLOCOCCUS EPIDERMIDIS                                                  64\n",
       "STAPHYLOCOCCUS HOMINIS                                                       4\n",
       "STAPHYLOCOCCUS LUGDUNENSIS                                                  11\n",
       "STAPHYLOCOCCUS SPECIES                                                       2\n",
       "STAPHYLOCOCCUS, COAGULASE NEGATIVE                                        1911\n",
       "STAPHYLOCOCCUS, COAGULASE NEGATIVE, PRESUMPTIVELY NOT S. SAPROPHYTICUS      13\n",
       "STREPTOCOCCUS ANGINOSUS                                                      3\n",
       "STREPTOCOCCUS ANGINOSUS (MILLERI) GROUP                                     43\n",
       "STREPTOCOCCUS BOVIS                                                          7\n",
       "STREPTOCOCCUS INFANTARIUS SSP. COLI (STREPTOCOCCUS BOVIS)                    1\n",
       "STREPTOCOCCUS MILLERI                                                        4\n",
       "STREPTOCOCCUS MILLERI GROUP                                                 12\n",
       "STREPTOCOCCUS MITIS                                                          4\n",
       "STREPTOCOCCUS ORALIS                                                         2\n",
       "STREPTOCOCCUS PNEUMONIAE                                                   184\n",
       "STREPTOCOCCUS SALIVARIUS                                                     1\n",
       "STREPTOCOCCUS SANGUIS                                                        1\n",
       "STREPTOCOCCUS SPECIES                                                        2\n",
       "STREPTOCOCCUS VESTIBULARIS                                                   1\n",
       "VIRIDANS STREPTOCOCCI                                                       71\n",
       "Name: count, dtype: int64"
      ]
     },
     "execution_count": 4,
     "metadata": {},
     "output_type": "execute_result"
    }
   ],
   "source": [
    "df[\"culture_microorganism_name\"].value_counts().sort_index()"
   ]
  },
  {
   "cell_type": "code",
   "execution_count": 5,
   "id": "26caccc9",
   "metadata": {},
   "outputs": [
    {
     "data": {
      "text/plain": [
       "culture_susceptibility\n",
       "R    1889\n",
       "S    8901\n",
       "Name: count, dtype: int64"
      ]
     },
     "execution_count": 5,
     "metadata": {},
     "output_type": "execute_result"
    }
   ],
   "source": [
    "df[\"culture_susceptibility\"].value_counts().sort_index()"
   ]
  },
  {
   "cell_type": "code",
   "execution_count": 6,
   "id": "a6e53a28",
   "metadata": {},
   "outputs": [],
   "source": [
    "# Concatenate these two attributes.\n",
    "df[\"culture_microorganism_name_AND_susceptibility\"] = df[\"culture_microorganism_name\"] + \"-\" + df[\"culture_susceptibility\"]\n",
    "df.drop(columns=[\"culture_microorganism_name\", \"culture_susceptibility\"], inplace=True)"
   ]
  },
  {
   "cell_type": "code",
   "execution_count": 7,
   "id": "2c99a7f6",
   "metadata": {},
   "outputs": [
    {
     "data": {
      "text/plain": [
       "culture_microorganism_name_AND_susceptibility\n",
       "ABIOTROPHIA/GRANULICATELLA SPECIES-S                                           4\n",
       "AEROCOCCUS VIRIDANS-S                                                          1\n",
       "ALPHA STREPTOCOCCI-S                                                          12\n",
       "BACILLUS SPECIES; NOT ANTHRACIS-S                                              3\n",
       "BETA STREPTOCOCCUS GROUP A-S                                                  12\n",
       "BETA STREPTOCOCCUS GROUP B-S                                                  76\n",
       "BETA STREPTOCOCCUS GROUP C-S                                                   2\n",
       "BETA STREPTOCOCCUS GROUP G-S                                                   7\n",
       "CORYNEBACTERIUM SPECIES (DIPHTHEROIDS)-S                                      11\n",
       "CORYNEBACTERIUM STRIATUM-S                                                     1\n",
       "CORYNEBACTERIUM UREALYTICUM SP. NOV.-S                                         3\n",
       "CORYNEBCATERIUM AMYCOLATUM-S                                                   1\n",
       "ENTEROCOCCUS AVIUM-S                                                           1\n",
       "ENTEROCOCCUS CASSELIFLAVUS-R                                                   4\n",
       "ENTEROCOCCUS CASSELIFLAVUS-S                                                   2\n",
       "ENTEROCOCCUS FAECALIS-R                                                       17\n",
       "ENTEROCOCCUS FAECALIS-S                                                      247\n",
       "ENTEROCOCCUS FAECIUM-R                                                       337\n",
       "ENTEROCOCCUS FAECIUM-S                                                        70\n",
       "ENTEROCOCCUS GALLINARUM-R                                                     11\n",
       "ENTEROCOCCUS GALLINARUM-S                                                      1\n",
       "ENTEROCOCCUS MUNDTII-R                                                         1\n",
       "ENTEROCOCCUS RAFFINOSUS-R                                                      1\n",
       "ENTEROCOCCUS RAFFINOSUS-S                                                      4\n",
       "ENTEROCOCCUS SP.-R                                                          1501\n",
       "ENTEROCOCCUS SP.-S                                                          1934\n",
       "GAMMA(I.E. NON-HEMOLYTIC) STREPTOCOCCUS-S                                      1\n",
       "GRAM POSITIVE COCCUS(COCCI)-S                                                  1\n",
       "LACTOBACILLUS SPECIES-R                                                        5\n",
       "LISTERIA MONOCYTOGENES-S                                                       3\n",
       "NUTRITIONALLY VARIANT STREPTOCOCCUS-S                                          2\n",
       "PEDIOCOCCUS SPECIES-R                                                          1\n",
       "POSITIVE FOR METHICILLIN RESISTANT STAPH AUREUS-S                             80\n",
       "PRESUMPTIVE STREPTOCOCCUS BOVIS-S                                              5\n",
       "STAPH AUREUS COAG +-R                                                         11\n",
       "STAPH AUREUS COAG +-S                                                       4076\n",
       "STAPHYLOCOCCUS EPIDERMIDIS-S                                                  64\n",
       "STAPHYLOCOCCUS HOMINIS-S                                                       4\n",
       "STAPHYLOCOCCUS LUGDUNENSIS-S                                                  11\n",
       "STAPHYLOCOCCUS SPECIES-S                                                       2\n",
       "STAPHYLOCOCCUS, COAGULASE NEGATIVE, PRESUMPTIVELY NOT S. SAPROPHYTICUS-S      13\n",
       "STAPHYLOCOCCUS, COAGULASE NEGATIVE-S                                        1911\n",
       "STREPTOCOCCUS ANGINOSUS (MILLERI) GROUP-S                                     43\n",
       "STREPTOCOCCUS ANGINOSUS-S                                                      3\n",
       "STREPTOCOCCUS BOVIS -S                                                         7\n",
       "STREPTOCOCCUS INFANTARIUS SSP. COLI (STREPTOCOCCUS BOVIS)-S                    1\n",
       "STREPTOCOCCUS MILLERI GROUP-S                                                 12\n",
       "STREPTOCOCCUS MILLERI-S                                                        4\n",
       "STREPTOCOCCUS MITIS-S                                                          4\n",
       "STREPTOCOCCUS ORALIS-S                                                         2\n",
       "STREPTOCOCCUS PNEUMONIAE-S                                                   184\n",
       "STREPTOCOCCUS SALIVARIUS-S                                                     1\n",
       "STREPTOCOCCUS SANGUIS-S                                                        1\n",
       "STREPTOCOCCUS SPECIES-S                                                        2\n",
       "STREPTOCOCCUS VESTIBULARIS-S                                                   1\n",
       "VIRIDANS STREPTOCOCCI-S                                                       71\n",
       "Name: count, dtype: int64"
      ]
     },
     "execution_count": 7,
     "metadata": {},
     "output_type": "execute_result"
    }
   ],
   "source": [
    "df[\"culture_microorganism_name_AND_susceptibility\"].value_counts().sort_index()"
   ]
  },
  {
   "cell_type": "code",
   "execution_count": 8,
   "id": "6f605235",
   "metadata": {},
   "outputs": [],
   "source": [
    "df[\"culture_microorganism_name_AND_susceptibility\"].replace({\"ENTEROCOCCUS FAECIUM-R\" : \"ENTEROCOCCUS_SP.-R\",\n",
    "                                                             \"ENTEROCOCCUS FAECIUM-S\" : \"ENTEROCOCCUS_SP.-S\",\n",
    "                                                             \"ENTEROCOCCUS CASSELIFLAVUS-R\" : \"ENTEROCOCCUS_SP.-R\",\n",
    "                                                             \"ENTEROCOCCUS CASSELIFLAVUS-S\" : \"ENTEROCOCCUS_SP.-S\",\n",
    "                                                             \"ENTEROCOCCUS FAECALIS-R\" : \"ENTEROCOCCUS_SP.-R\",\n",
    "                                                             \"ENTEROCOCCUS FAECALIS-S\" : \"ENTEROCOCCUS_SP.-S\",\n",
    "                                                             \"ENTEROCOCCUS GALLINARUM-R\" : \"ENTEROCOCCUS_SP.-R\",\n",
    "                                                             \"ENTEROCOCCUS GALLINARUM-S\" : \"ENTEROCOCCUS_SP.-S\",\n",
    "                                                             \"ENTEROCOCCUS RAFFINOSUS-R\" : \"ENTEROCOCCUS_SP.-R\",\n",
    "                                                             \"ENTEROCOCCUS RAFFINOSUS-S\" : \"ENTEROCOCCUS_SP.-S\",\n",
    "                                                             \"ENTEROCOCCUS MUNDTII-R\" : \"ENTEROCOCCUS_SP.-R\",\n",
    "                                                             \"ENTEROCOCCUS AVIUM-S\" : \"ENTEROCOCCUS_SP.-S\",\n",
    "                                                             \"ENTEROCOCCUS SP.-R\" : \"ENTEROCOCCUS_SP.-R\",\n",
    "                                                             \"ENTEROCOCCUS SP.-S\" : \"ENTEROCOCCUS_SP.-S\",\n",
    "                                                            }, inplace=True)"
   ]
  },
  {
   "cell_type": "code",
   "execution_count": 9,
   "id": "3c901382",
   "metadata": {},
   "outputs": [
    {
     "data": {
      "text/plain": [
       "culture_microorganism_name_AND_susceptibility\n",
       "ABIOTROPHIA/GRANULICATELLA SPECIES-S                                           4\n",
       "AEROCOCCUS VIRIDANS-S                                                          1\n",
       "ALPHA STREPTOCOCCI-S                                                          12\n",
       "BACILLUS SPECIES; NOT ANTHRACIS-S                                              3\n",
       "BETA STREPTOCOCCUS GROUP A-S                                                  12\n",
       "BETA STREPTOCOCCUS GROUP B-S                                                  76\n",
       "BETA STREPTOCOCCUS GROUP C-S                                                   2\n",
       "BETA STREPTOCOCCUS GROUP G-S                                                   7\n",
       "CORYNEBACTERIUM SPECIES (DIPHTHEROIDS)-S                                      11\n",
       "CORYNEBACTERIUM STRIATUM-S                                                     1\n",
       "CORYNEBACTERIUM UREALYTICUM SP. NOV.-S                                         3\n",
       "CORYNEBCATERIUM AMYCOLATUM-S                                                   1\n",
       "ENTEROCOCCUS_SP.-R                                                          1872\n",
       "ENTEROCOCCUS_SP.-S                                                          2259\n",
       "GAMMA(I.E. NON-HEMOLYTIC) STREPTOCOCCUS-S                                      1\n",
       "GRAM POSITIVE COCCUS(COCCI)-S                                                  1\n",
       "LACTOBACILLUS SPECIES-R                                                        5\n",
       "LISTERIA MONOCYTOGENES-S                                                       3\n",
       "NUTRITIONALLY VARIANT STREPTOCOCCUS-S                                          2\n",
       "PEDIOCOCCUS SPECIES-R                                                          1\n",
       "POSITIVE FOR METHICILLIN RESISTANT STAPH AUREUS-S                             80\n",
       "PRESUMPTIVE STREPTOCOCCUS BOVIS-S                                              5\n",
       "STAPH AUREUS COAG +-R                                                         11\n",
       "STAPH AUREUS COAG +-S                                                       4076\n",
       "STAPHYLOCOCCUS EPIDERMIDIS-S                                                  64\n",
       "STAPHYLOCOCCUS HOMINIS-S                                                       4\n",
       "STAPHYLOCOCCUS LUGDUNENSIS-S                                                  11\n",
       "STAPHYLOCOCCUS SPECIES-S                                                       2\n",
       "STAPHYLOCOCCUS, COAGULASE NEGATIVE, PRESUMPTIVELY NOT S. SAPROPHYTICUS-S      13\n",
       "STAPHYLOCOCCUS, COAGULASE NEGATIVE-S                                        1911\n",
       "STREPTOCOCCUS ANGINOSUS (MILLERI) GROUP-S                                     43\n",
       "STREPTOCOCCUS ANGINOSUS-S                                                      3\n",
       "STREPTOCOCCUS BOVIS -S                                                         7\n",
       "STREPTOCOCCUS INFANTARIUS SSP. COLI (STREPTOCOCCUS BOVIS)-S                    1\n",
       "STREPTOCOCCUS MILLERI GROUP-S                                                 12\n",
       "STREPTOCOCCUS MILLERI-S                                                        4\n",
       "STREPTOCOCCUS MITIS-S                                                          4\n",
       "STREPTOCOCCUS ORALIS-S                                                         2\n",
       "STREPTOCOCCUS PNEUMONIAE-S                                                   184\n",
       "STREPTOCOCCUS SALIVARIUS-S                                                     1\n",
       "STREPTOCOCCUS SANGUIS-S                                                        1\n",
       "STREPTOCOCCUS SPECIES-S                                                        2\n",
       "STREPTOCOCCUS VESTIBULARIS-S                                                   1\n",
       "VIRIDANS STREPTOCOCCI-S                                                       71\n",
       "Name: count, dtype: int64"
      ]
     },
     "execution_count": 9,
     "metadata": {},
     "output_type": "execute_result"
    }
   ],
   "source": [
    "df[\"culture_microorganism_name_AND_susceptibility\"].value_counts().sort_index()"
   ]
  },
  {
   "cell_type": "markdown",
   "id": "b680ee87",
   "metadata": {},
   "source": [
    "We then transform our target to binary."
   ]
  },
  {
   "cell_type": "code",
   "execution_count": 10,
   "id": "ee48eda6",
   "metadata": {},
   "outputs": [],
   "source": [
    "target = (\"culture_microorganism_name_AND_susceptibility\", \"ENTEROCOCCUS_SP.-R\")\n",
    "df[target[0]].loc[df[target[0]] != target[1]] = \"noTarget\""
   ]
  },
  {
   "cell_type": "code",
   "execution_count": 11,
   "id": "b0c65675",
   "metadata": {},
   "outputs": [
    {
     "data": {
      "text/plain": [
       "culture_microorganism_name_AND_susceptibility\n",
       "noTarget              8918\n",
       "ENTEROCOCCUS_SP.-R    1872\n",
       "Name: count, dtype: int64"
      ]
     },
     "execution_count": 11,
     "metadata": {},
     "output_type": "execute_result"
    }
   ],
   "source": [
    "df[\"culture_microorganism_name_AND_susceptibility\"].value_counts()"
   ]
  },
  {
   "cell_type": "markdown",
   "id": "1d96f369",
   "metadata": {},
   "source": [
    "# 3. Balancing the dataset"
   ]
  },
  {
   "cell_type": "markdown",
   "id": "b01fddf6",
   "metadata": {},
   "source": [
    "To apply the machine learning techniques, the target must be balanced. For that, we make a subsample of the negative instances."
   ]
  },
  {
   "cell_type": "code",
   "execution_count": 12,
   "id": "4d6c6bf7",
   "metadata": {},
   "outputs": [],
   "source": [
    "df_positive_instances = df[ (df[target[0]] == target[1]) ]\n",
    "df_negative_instances = df[ (df[target[0]] != target[1]) ]\n",
    "df_negative_instances_subsample = df_negative_instances.iloc[ sample_without_replacement(len(df_negative_instances), len(df_positive_instances), random_state = 100) ]"
   ]
  },
  {
   "cell_type": "code",
   "execution_count": 13,
   "id": "594e1387",
   "metadata": {},
   "outputs": [],
   "source": [
    "df_final = pd.concat([df_positive_instances, df_negative_instances_subsample])\n",
    "df_final.reset_index(drop=True, inplace=True)"
   ]
  },
  {
   "cell_type": "code",
   "execution_count": 14,
   "id": "2f76e124",
   "metadata": {},
   "outputs": [
    {
     "name": "stdout",
     "output_type": "stream",
     "text": [
      "Number of instances: 3744\n",
      "Number of attributes: 31\n"
     ]
    }
   ],
   "source": [
    "print(\"Number of instances: \" + str(len(df_final)))\n",
    "print(\"Number of attributes: \" + str(len(df_final.columns)))"
   ]
  },
  {
   "cell_type": "code",
   "execution_count": 15,
   "id": "6a1312a1",
   "metadata": {},
   "outputs": [
    {
     "data": {
      "text/plain": [
       "culture_microorganism_name_AND_susceptibility\n",
       "ENTEROCOCCUS_SP.-R    1872\n",
       "noTarget              1872\n",
       "Name: count, dtype: int64"
      ]
     },
     "execution_count": 15,
     "metadata": {},
     "output_type": "execute_result"
    }
   ],
   "source": [
    "df_final[\"culture_microorganism_name_AND_susceptibility\"].value_counts()"
   ]
  },
  {
   "cell_type": "code",
   "execution_count": 16,
   "id": "44ae91e4",
   "metadata": {},
   "outputs": [
    {
     "name": "stdout",
     "output_type": "stream",
     "text": [
      "** COLUMN PATIENT_GENDER **\n",
      "patient_gender\n",
      "M    2061\n",
      "F    1683\n",
      "Name: count, dtype: int64\n",
      "** COLUMN PATIENT_AGE **\n",
      "patient_age\n",
      "ADULT      1867\n",
      "ELDERLY    1842\n",
      "CHILD        35\n",
      "Name: count, dtype: int64\n",
      "** COLUMN READMISSION **\n",
      "readmission\n",
      "no     2345\n",
      "yes    1399\n",
      "Name: count, dtype: int64\n",
      "** COLUMN EXITUS **\n",
      "exitus\n",
      "no     2881\n",
      "yes     863\n",
      "Name: count, dtype: int64\n",
      "** COLUMN ADMISSION_TYPE **\n",
      "admission_type\n",
      "EMERGENCY    3443\n",
      "ELECTIVE      269\n",
      "NEWBORN        32\n",
      "Name: count, dtype: int64\n",
      "** COLUMN ADMISSION_LOCATION **\n",
      "admission_location\n",
      "EMERGENCY_ROOM_ADMIT         1714\n",
      "TRANSFER_FROM_HOSP/EXTRAM     824\n",
      "CLINIC_REFERRAL/PREMATURE     596\n",
      "PHYS_REFERRAL/NORMAL_DELI     520\n",
      "TRANSFER_FROM_SKILLED_NUR      47\n",
      "TRANSFER_FROM_OTHER_HEALT      42\n",
      "NO_INFO                         1\n",
      "Name: count, dtype: int64\n",
      "** COLUMN DISCHARGE_LOCATION **\n",
      "discharge_location\n",
      "REHAB/DISTINCT_PART_HOSP     1025\n",
      "DEAD/EXPIRED                  863\n",
      "SNF                           550\n",
      "HOME_HEALTH_CARE              530\n",
      "LONG_TERM_CARE_HOSPITAL       376\n",
      "HOME                          173\n",
      "DISC-TRAN_CANCER/CHLDRN_H      70\n",
      "SHORT_TERM_HOSPITAL            59\n",
      "HOSPICE-HOME                   42\n",
      "HOSPICE-MEDICAL_FACILITY       17\n",
      "LEFT_AGAINST_MEDICAL_ADVI      14\n",
      "DISCH-TRAN_TO_PSYCH_HOSP        9\n",
      "HOME_WITH_HOME_IV_PROVIDR       7\n",
      "DISC-TRAN_TO_FEDERAL_HC         7\n",
      "ICF                             2\n",
      "Name: count, dtype: int64\n",
      "** COLUMN HOURS_BETWEEN_ADMISSION_AND_FIRST_ICU **\n",
      "hours_between_admission_and_first_icu\n",
      "0            1853\n",
      "112<x         741\n",
      "22<x<=112     581\n",
      "0<x<=22       536\n",
      "-1             33\n",
      "Name: count, dtype: int64\n",
      "** COLUMN CULTURE_MONTH **\n",
      "culture_month\n",
      "JANUARY      359\n",
      "APRIL        331\n",
      "FEBRUARY     328\n",
      "AUGUST       318\n",
      "JUNE         317\n",
      "MAY          316\n",
      "MARCH        315\n",
      "DECEMBER     308\n",
      "SEPTEMBER    302\n",
      "NOVEMBER     287\n",
      "OCTOBER      286\n",
      "JULY         277\n",
      "Name: count, dtype: int64\n",
      "** COLUMN CULTURE_SPECIMEN_TYPE_DESCRIPTION **\n",
      "culture_specimen_type_description\n",
      "SWAB                                       900\n",
      "URINE                                      815\n",
      "BLOOD_CULTURE                              756\n",
      "SPUTUM                                     395\n",
      "CATHETER_TIP-IV                            208\n",
      "TISSUE                                     114\n",
      "PERITONEAL_FLUID                            94\n",
      "ABSCESS                                     82\n",
      "BILE                                        75\n",
      "FLUID,OTHER                                 65\n",
      "PLEURAL_FLUID                               41\n",
      "MRSA_SCREEN                                 34\n",
      "BLOOD_CULTURE__NEONATE                      29\n",
      "BRONCHOALVEOLAR_LAVAGE                      25\n",
      "BLOOD_CULTURE_(MYCO/F_LYTIC_BOTTLE)         22\n",
      "STOOL                                       12\n",
      "FLUID_RECEIVED_IN_BLOOD_CULTURE_BOTTLES     11\n",
      "CSF;SPINAL_FLUID                            10\n",
      "BRONCHIAL_WASHINGS                           9\n",
      "FOREIGN_BODY                                 8\n",
      "JOINT_FLUID                                  6\n",
      "ASPIRATE                                     5\n",
      "Staph_aureus_Screen                          4\n",
      "URINE,KIDNEY                                 3\n",
      "Mini-BAL                                     3\n",
      "FLUID_WOUND                                  3\n",
      "FOOT_CULTURE                                 3\n",
      "EYE                                          2\n",
      "FECAL_SWAB                                   2\n",
      "BIOPSY                                       2\n",
      "DIALYSIS_FLUID                               2\n",
      "Isolate                                      1\n",
      "XXX                                          1\n",
      "BONE_MARROW                                  1\n",
      "NOSE                                         1\n",
      "Name: count, dtype: int64\n",
      "** COLUMN SERVICE_WHEN_CULTURE **\n",
      "service_when_culture\n",
      "MED           1419\n",
      "SURG           930\n",
      "NO_SERVICE     316\n",
      "VSURG          153\n",
      "CMED           147\n",
      "CSURG          147\n",
      "OMED           126\n",
      "TRAUM          125\n",
      "NSURG          104\n",
      "NMED           101\n",
      "TSURG           74\n",
      "ORTHO           37\n",
      "NB              32\n",
      "GU              15\n",
      "PSURG            7\n",
      "GYN              6\n",
      "ENT              3\n",
      "NBB              2\n",
      "Name: count, dtype: int64\n",
      "** COLUMN ICU_WHEN_CULTURE **\n",
      "icu_when_culture\n",
      "MICU      1140\n",
      "SICU       984\n",
      "NO_ICU     796\n",
      "TSICU      343\n",
      "CSRU       232\n",
      "CCU        214\n",
      "NICU        34\n",
      "NWARD        1\n",
      "Name: count, dtype: int64\n",
      "** COLUMN TREATED_WITH_VANCOMYCIN_IN_PREVIOUS_ADMISSIONS **\n",
      "treated_with_vancomycin_in_previous_admissions\n",
      "no     2782\n",
      "yes     962\n",
      "Name: count, dtype: int64\n",
      "** COLUMN TREATED_WITH_VANCOMYCIN_IN_THE_CURRENT_ADMISSION_BEFORE_CULTURE **\n",
      "treated_with_vancomycin_in_the_current_admission_before_culture\n",
      "yes    2306\n",
      "no     1438\n",
      "Name: count, dtype: int64\n",
      "** COLUMN PREVIOUS_COLONIZATION_WITH_ENTEROBACTERALES_CRE **\n",
      "previous_colonization_with_enterobacterales_cre\n",
      "no     3389\n",
      "yes     355\n",
      "Name: count, dtype: int64\n",
      "** COLUMN PREVIOUS_COLONIZATION_WITH_PSEUDOMONAS_AERUGINOSA **\n",
      "previous_colonization_with_pseudomonas_aeruginosa\n",
      "no     3559\n",
      "yes     185\n",
      "Name: count, dtype: int64\n",
      "** COLUMN PREVIOUS_COLONIZATION_WITH_ACINETOBACTER_BAUMANNII **\n",
      "previous_colonization_with_acinetobacter_baumannii\n",
      "no     3722\n",
      "yes      22\n",
      "Name: count, dtype: int64\n",
      "** COLUMN PREVIOUS_COLONIZATION_WITH_SARM **\n",
      "previous_colonization_with_sarm\n",
      "no     3668\n",
      "yes      76\n",
      "Name: count, dtype: int64\n",
      "** COLUMN PREVIOUS_COLONIZATION_WITH_STENOTROPHOMONAS_MALTOPHILIA **\n",
      "previous_colonization_with_stenotrophomonas_maltophilia\n",
      "no     3712\n",
      "yes      32\n",
      "Name: count, dtype: int64\n",
      "** COLUMN PREVIOUS_COLONIZATION_WITH_ERV **\n",
      "previous_colonization_with_erv\n",
      "no     3351\n",
      "yes     393\n",
      "Name: count, dtype: int64\n",
      "** COLUMN PREVIOUS_EXPOSURE_TO_THIRD_GENERATION_CEPHALOSPORINS **\n",
      "previous_exposure_to_third_generation_cephalosporins\n",
      "no     3343\n",
      "yes     401\n",
      "Name: count, dtype: int64\n",
      "** COLUMN PREVIOUS_EXPOSURE_TO_CARBAPENEMS **\n",
      "previous_exposure_to_carbapenems\n",
      "no     3455\n",
      "yes     289\n",
      "Name: count, dtype: int64\n",
      "** COLUMN PREVIOUS_EXPOSURE_TO_FLUORQUINOLONES **\n",
      "previous_exposure_to_fluorquinolones\n",
      "no     2836\n",
      "yes     908\n",
      "Name: count, dtype: int64\n",
      "** COLUMN PREVIOUS_EXPOSURE_TO_AMINOGLYCOSIDES **\n",
      "previous_exposure_to_aminoglycosides\n",
      "no     3549\n",
      "yes     195\n",
      "Name: count, dtype: int64\n",
      "** COLUMN PREVIOUS_EXPOSURE_TO_B_LACTAM **\n",
      "previous_exposure_to_b_lactam\n",
      "no     3160\n",
      "yes     584\n",
      "Name: count, dtype: int64\n",
      "** COLUMN PREVIOUS_EXPOSURE_TO_ANTIFUNGAL_AGENTS **\n",
      "previous_exposure_to_antifungal_agents\n",
      "no     3101\n",
      "yes     643\n",
      "Name: count, dtype: int64\n",
      "** COLUMN MECHANICAL_VENTILATION_IN_PREVIOUS_ADMISSIONS **\n",
      "mechanical_ventilation_in_previous_admissions\n",
      "no     3146\n",
      "yes     598\n",
      "Name: count, dtype: int64\n",
      "** COLUMN ORGAN_TRANSPLANT_IN_PREVIOUS_ADMISSIONS **\n",
      "organ_transplant_in_previous_admissions\n",
      "no     3544\n",
      "yes     200\n",
      "Name: count, dtype: int64\n",
      "** COLUMN HEMATOPOIETIC_TRANSPLANT_IN_PREVIOUS_ADMISSIONS **\n",
      "hematopoietic_transplant_in_previous_admissions\n",
      "no     3740\n",
      "yes       4\n",
      "Name: count, dtype: int64\n",
      "** COLUMN CATHETER_IN_PREVIOUS_ADMISSIONS **\n",
      "catheter_in_previous_admissions\n",
      "no     3064\n",
      "yes     680\n",
      "Name: count, dtype: int64\n",
      "** COLUMN CULTURE_MICROORGANISM_NAME_AND_SUSCEPTIBILITY **\n",
      "culture_microorganism_name_AND_susceptibility\n",
      "ENTEROCOCCUS_SP.-R    1872\n",
      "noTarget              1872\n",
      "Name: count, dtype: int64\n"
     ]
    }
   ],
   "source": [
    "# Values of the columns.\n",
    "for c in df_final.columns:\n",
    "    print(\"** COLUMN \" + c.upper() + \" **\")\n",
    "    print(df_final[c].value_counts())"
   ]
  },
  {
   "cell_type": "markdown",
   "id": "88cc567d",
   "metadata": {},
   "source": [
    "# 4. Save the final dataset as csv"
   ]
  },
  {
   "cell_type": "code",
   "execution_count": 17,
   "id": "2bf91e39",
   "metadata": {},
   "outputs": [],
   "source": [
    "df_final.to_csv(\"mimic-iii-for-experiments.csv\", index = False)"
   ]
  }
 ],
 "metadata": {
  "kernelspec": {
   "display_name": "Python 3 (ipykernel)",
   "language": "python",
   "name": "python3"
  },
  "language_info": {
   "codemirror_mode": {
    "name": "ipython",
    "version": 3
   },
   "file_extension": ".py",
   "mimetype": "text/x-python",
   "name": "python",
   "nbconvert_exporter": "python",
   "pygments_lexer": "ipython3",
   "version": "3.11.5"
  }
 },
 "nbformat": 4,
 "nbformat_minor": 5
}
